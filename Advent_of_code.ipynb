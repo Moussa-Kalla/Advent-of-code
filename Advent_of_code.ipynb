{
 "cells": [
  {
   "cell_type": "markdown",
   "metadata": {},
   "source": [
    "# Day 1 "
   ]
  },
  {
   "cell_type": "markdown",
   "metadata": {},
   "source": [
    "## Part 1\n",
    "\n",
    "$$ x = \n",
    "\\begin{pmatrix}\n",
    "x_1 \\\\\n",
    "x_2 \\\\\n",
    "\\vdots \\\\\n",
    "x_n\n",
    "\\end{pmatrix}\n",
    ", y = \n",
    "\\begin{pmatrix}\n",
    "y_1 \\\\\n",
    "y_2 \\\\\n",
    "\\vdots \\\\\n",
    "y_n\n",
    "\\end{pmatrix}\n",
    "$$\n",
    "\n",
    "Avec\n",
    "\n",
    "$$\n",
    "x_1 \\leq x_2 \\leq ... \\x_n \n",
    "$$"
   ]
  },
  {
   "cell_type": "code",
   "execution_count": 61,
   "metadata": {},
   "outputs": [
    {
     "data": {
      "text/plain": [
       "11"
      ]
     },
     "execution_count": 61,
     "metadata": {},
     "output_type": "execute_result"
    }
   ],
   "source": [
    "liste1 =  [3, 4, 2, 1, 3 ,3]\n",
    "liste2 = [4, 3, 5, 3, 9, 3]\n",
    "\n",
    "def total_distance(liste1, liste2):\n",
    "  liste1.sort()\n",
    "  liste2.sort()\n",
    "\n",
    "  distance = 0\n",
    "  for num1, num2 in zip(liste1, liste2):\n",
    "    distance += abs(num1 - num2)\n",
    "\n",
    "  return distance\n",
    "distance = total_distance(liste1, liste2)\n",
    "distance"
   ]
  },
  {
   "cell_type": "code",
   "execution_count": 58,
   "metadata": {},
   "outputs": [
    {
     "data": {
      "text/plain": [
       "1830467"
      ]
     },
     "execution_count": 58,
     "metadata": {},
     "output_type": "execute_result"
    }
   ],
   "source": [
    "\n",
    "lien_dossier = 'C:\\\\Users\\\\abdoulam\\\\SAFT\\\\Transformation Numérique ADP Poitiers - Documents\\\\ePMR Operations\\\\Python\\\\Day_1_input_data.txt'\n",
    "\n",
    "liste1 = []\n",
    "liste2 = []\n",
    "\n",
    "with open(lien_dossier, 'r') as f:\n",
    "    for line in f:\n",
    "        num1, num2 = map(int, line.split())\n",
    "        liste1.append(num1)\n",
    "        liste2.append(num2)\n",
    "\n",
    "distance = total_distance(liste1, liste2)\n",
    "distance"
   ]
  },
  {
   "cell_type": "markdown",
   "metadata": {},
   "source": [
    "## Part 2"
   ]
  },
  {
   "cell_type": "code",
   "execution_count": 62,
   "metadata": {},
   "outputs": [
    {
     "data": {
      "text/plain": [
       "31"
      ]
     },
     "execution_count": 62,
     "metadata": {},
     "output_type": "execute_result"
    }
   ],
   "source": [
    "def score_similarité(liste1, liste2):\n",
    "    similarité = 0\n",
    "    for num in liste1:\n",
    "        similarité += num * liste2.count(num)\n",
    "    return similarité\n",
    "\n",
    "similarité = score_similarité(liste1, liste2)\n",
    "similarité"
   ]
  },
  {
   "cell_type": "code",
   "execution_count": 60,
   "metadata": {},
   "outputs": [
    {
     "name": "stdout",
     "output_type": "stream",
     "text": [
      "10822 3\n",
      "11794 19\n",
      "16203 11\n",
      "16467 6\n",
      "16941 19\n",
      "17456 10\n",
      "27233 15\n",
      "27870 2\n",
      "31908 4\n",
      "34197 13\n",
      "34536 17\n",
      "43945 8\n",
      "44116 11\n",
      "44188 4\n",
      "46576 20\n",
      "50722 14\n",
      "50955 2\n",
      "54713 7\n",
      "57474 20\n",
      "58164 8\n",
      "60185 1\n",
      "63468 17\n",
      "63696 15\n",
      "63858 15\n",
      "65867 19\n",
      "66299 14\n",
      "66574 3\n",
      "67702 12\n",
      "70349 10\n",
      "70932 17\n",
      "71704 9\n",
      "72545 4\n",
      "73397 5\n",
      "76152 18\n",
      "77323 9\n",
      "79922 8\n",
      "80569 6\n",
      "82199 5\n",
      "83955 13\n",
      "85581 16\n",
      "97395 13\n",
      "98194 7\n",
      "99720 18\n"
     ]
    }
   ],
   "source": [
    "for num in liste1:\n",
    "        similarité += num * liste2.count(num)\n",
    "        if num * liste2.count(num) !=0 :\n",
    "            print(num, liste2.count(num))"
   ]
  },
  {
   "cell_type": "markdown",
   "metadata": {},
   "source": [
    "# Day 2"
   ]
  },
  {
   "cell_type": "markdown",
   "metadata": {},
   "source": [
    "## Part 1"
   ]
  },
  {
   "cell_type": "code",
   "execution_count": 41,
   "metadata": {},
   "outputs": [
    {
     "data": {
      "text/plain": [
       "279"
      ]
     },
     "execution_count": 41,
     "metadata": {},
     "output_type": "execute_result"
    }
   ],
   "source": [
    "def est_rapport_sur(rapport):\n",
    "\n",
    "    direction = None \n",
    "\n",
    "    for i in range(1, len(rapport)):\n",
    "        difference = rapport[i] - rapport[i - 1]\n",
    "        if direction is None:\n",
    "            direction = \"croissante\" if difference > 0 else \"décroissante\"\n",
    "        if (direction == \"croissante\" and not 1 <= difference <= 3) or \\\n",
    "           (direction == \"décroissante\" and not -3 <= difference <= -1):\n",
    "            return False\n",
    "    return True\n",
    "\n",
    "def compter_rapports_surs(rapports):\n",
    "\n",
    "    compteur_surs = 0\n",
    "    for rapport in rapports:\n",
    "        if est_rapport_sur(rapport):\n",
    "            compteur_surs += 1\n",
    "    return compteur_surs\n",
    "\n",
    "with open('C:\\\\Users\\\\abdoulam\\\\SAFT\\\\Transformation Numérique ADP Poitiers - Documents\\\\ePMR Operations\\\\Python\\\\Day_2_input_data.txt', 'r') as fichier:\n",
    "    rapports = [[int(nombre) for nombre in ligne.strip().split()] for ligne in fichier]\n",
    "\n",
    "rapports_surs = compter_rapports_surs(rapports)\n",
    "rapports_surs"
   ]
  },
  {
   "cell_type": "markdown",
   "metadata": {},
   "source": [
    "## Part 2"
   ]
  }
 ],
 "metadata": {
  "kernelspec": {
   "display_name": "Python 3",
   "language": "python",
   "name": "python3"
  },
  "language_info": {
   "codemirror_mode": {
    "name": "ipython",
    "version": 3
   },
   "file_extension": ".py",
   "mimetype": "text/x-python",
   "name": "python",
   "nbconvert_exporter": "python",
   "pygments_lexer": "ipython3",
   "version": "3.13.0"
  }
 },
 "nbformat": 4,
 "nbformat_minor": 2
}
