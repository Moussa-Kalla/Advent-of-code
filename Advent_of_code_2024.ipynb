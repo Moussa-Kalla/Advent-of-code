{
 "cells": [
  {
   "cell_type": "markdown",
   "metadata": {},
   "source": [
    "# Day 1 "
   ]
  },
  {
   "cell_type": "markdown",
   "metadata": {},
   "source": [
    "# Part1\n",
    "\n",
    "Soient deux listes de nombres réels, **x** et **y**, toutes deux strictement croissantes :\n",
    "$$\n",
    "x = \\begin{pmatrix}\n",
    "x_0 \\\\\n",
    "x_1 \\\\\n",
    "\\vdots \\\\\n",
    "x_n\n",
    "\\end{pmatrix}\n",
    ", \\quad\n",
    "y = \\begin{pmatrix}\n",
    "y_0 \\\\\n",
    "y_1 \\\\\n",
    "\\vdots \\\\\n",
    "y_n\n",
    "\\end{pmatrix}\n",
    "$$\n",
    "\n",
    "$$Distance = \\sum_{i = 0}^n |x_i - y_i|$$"
   ]
  },
  {
   "cell_type": "code",
   "execution_count": 4,
   "metadata": {},
   "outputs": [
    {
     "data": {
      "text/plain": [
       "11"
      ]
     },
     "execution_count": 4,
     "metadata": {},
     "output_type": "execute_result"
    }
   ],
   "source": [
    "liste1 =  [3, 4, 2, 1, 3 ,3]\n",
    "liste2 = [4, 3, 5, 3, 9, 3]\n",
    "\n",
    "def total_distance(liste1, liste2):\n",
    "  liste1.sort()\n",
    "  liste2.sort()\n",
    "\n",
    "  distance = 0\n",
    "  for num1, num2 in zip(liste1, liste2):\n",
    "    distance += abs(num1 - num2)\n",
    "\n",
    "  return distance\n",
    "resultat = total_distance(liste1, liste2)\n",
    "resultat"
   ]
  },
  {
   "cell_type": "code",
   "execution_count": 5,
   "metadata": {},
   "outputs": [
    {
     "data": {
      "text/plain": [
       "1830467"
      ]
     },
     "execution_count": 5,
     "metadata": {},
     "output_type": "execute_result"
    }
   ],
   "source": [
    "\n",
    "lien_fichier = 'C:\\\\Python\\\\Advent_of_code_2024\\\\Day_1_input_data.txt'\n",
    "\n",
    "liste1 = []\n",
    "liste2 = []\n",
    "\n",
    "with open(lien_fichier, 'r') as f:\n",
    "    for line in f:\n",
    "        num1, num2 = map(int, line.split())\n",
    "        liste1.append(num1)\n",
    "        liste2.append(num2)\n",
    "\n",
    "resultat = total_distance(liste1, liste2)\n",
    "resultat"
   ]
  },
  {
   "cell_type": "markdown",
   "metadata": {},
   "source": [
    "## Part 2"
   ]
  },
  {
   "cell_type": "code",
   "execution_count": 6,
   "metadata": {},
   "outputs": [
    {
     "data": {
      "text/plain": [
       "26674158"
      ]
     },
     "execution_count": 6,
     "metadata": {},
     "output_type": "execute_result"
    }
   ],
   "source": [
    "def score_similarité(liste1, liste2):\n",
    "    similarité = 0\n",
    "    for num in liste1:\n",
    "        similarité += num * liste2.count(num)\n",
    "    return similarité\n",
    "\n",
    "resultat = score_similarité(liste1, liste2)\n",
    "resultat"
   ]
  },
  {
   "cell_type": "markdown",
   "metadata": {},
   "source": [
    "# Day 2"
   ]
  },
  {
   "cell_type": "markdown",
   "metadata": {},
   "source": [
    "## Part 1"
   ]
  },
  {
   "cell_type": "code",
   "execution_count": 7,
   "metadata": {},
   "outputs": [
    {
     "data": {
      "text/plain": [
       "279"
      ]
     },
     "execution_count": 7,
     "metadata": {},
     "output_type": "execute_result"
    }
   ],
   "source": [
    "def est_rapport_sur(rapport):\n",
    "\n",
    "    direction = None \n",
    "\n",
    "    for i in range(1, len(rapport)):\n",
    "        difference = rapport[i] - rapport[i - 1]\n",
    "        if direction is None:\n",
    "            direction = \"croissante\" if difference > 0 else \"décroissante\"\n",
    "        if (direction == \"croissante\" and not 1 <= difference <= 3) or \\\n",
    "           (direction == \"décroissante\" and not -3 <= difference <= -1):\n",
    "            return False\n",
    "    return True\n",
    "\n",
    "def compter_rapports_surs(rapports):\n",
    "\n",
    "    compteur_surs = 0\n",
    "    for rapport in rapports:\n",
    "        if est_rapport_sur(rapport):\n",
    "            compteur_surs += 1\n",
    "    return compteur_surs\n",
    "\n",
    "with open('C:\\\\Python\\\\Advent_of_code_2024\\\\Day_2_input_data.txt', 'r') as fichier:\n",
    "    rapports = [[int(nombre) for nombre in ligne.strip().split()] for ligne in fichier]\n",
    "\n",
    "resultat = compter_rapports_surs(rapports)\n",
    "resultat"
   ]
  },
  {
   "cell_type": "markdown",
   "metadata": {},
   "source": [
    "## Part 2"
   ]
  },
  {
   "cell_type": "code",
   "execution_count": null,
   "metadata": {},
   "outputs": [],
   "source": []
  },
  {
   "cell_type": "markdown",
   "metadata": {},
   "source": [
    "# Day 3"
   ]
  },
  {
   "cell_type": "markdown",
   "metadata": {},
   "source": [
    "## Part 1"
   ]
  },
  {
   "cell_type": "code",
   "execution_count": 8,
   "metadata": {},
   "outputs": [],
   "source": [
    "lien_fichier = 'C:\\\\Python\\\\Advent_of_code_2024\\\\Day_3_input_data.txt'"
   ]
  },
  {
   "cell_type": "code",
   "execution_count": 9,
   "metadata": {},
   "outputs": [
    {
     "data": {
      "text/plain": [
       "161085926"
      ]
     },
     "execution_count": 9,
     "metadata": {},
     "output_type": "execute_result"
    }
   ],
   "source": [
    "import re\n",
    "\n",
    "def calcul_somme_produit_mul(lien_fichier):\n",
    "\n",
    "    with open(lien_fichier, 'r') as file:\n",
    "        data = file.read()\n",
    "\n",
    "    pattern = r\"mul\\((\\d+),(\\d+)\\)\"\n",
    "\n",
    "    corresp = re.findall(pattern, data)\n",
    "\n",
    "    somme_totale = sum(int(x) * int(y) for x, y in corresp)\n",
    "\n",
    "    return somme_totale, corresp\n",
    "\n",
    "somme_totale, corresp = calcul_somme_produit_mul(lien_fichier)\n",
    "somme_totale"
   ]
  },
  {
   "cell_type": "markdown",
   "metadata": {},
   "source": [
    "# Part 2"
   ]
  },
  {
   "cell_type": "code",
   "execution_count": 11,
   "metadata": {},
   "outputs": [
    {
     "data": {
      "text/plain": [
       "82045421"
      ]
     },
     "execution_count": 11,
     "metadata": {},
     "output_type": "execute_result"
    }
   ],
   "source": [
    "def calcul_somme_produit_conditionnelle_mul(lien_fichier):\n",
    "    with open(lien_fichier, 'r') as file:\n",
    "        data_texte = file.read()\n",
    "    pattern = r\"(mul\\((\\d{1,3}),(\\d{1,3})\\)|do\\(\\)|don't\\(\\))\"\n",
    "    instructions = re.findall(pattern, data_texte)\n",
    "\n",
    "    enabled = True\n",
    "    resulta = 0\n",
    "\n",
    "    for inst in instructions:\n",
    "        match inst[0]:\n",
    "            case \"do()\":\n",
    "                    enabled = True\n",
    "            case \"don't()\":\n",
    "                    enabled = False\n",
    "            case _ if enabled:\n",
    "                    resulta += int(inst[1]) * int(inst[2])\n",
    "    return resulta, instructions\n",
    "\n",
    "resulta, instructions = calcul_somme_produit_conditionnelle_mul(lien_fichier)\n",
    "resulta"
   ]
  },
  {
   "cell_type": "markdown",
   "metadata": {},
   "source": [
    "# Day 4"
   ]
  },
  {
   "cell_type": "markdown",
   "metadata": {},
   "source": [
    "## Part1"
   ]
  },
  {
   "cell_type": "code",
   "execution_count": 13,
   "metadata": {},
   "outputs": [],
   "source": [
    "lien_fichier = 'C:\\\\Python\\\\Advent_of_code_2024\\\\Day_4_input_data.txt'"
   ]
  },
  {
   "cell_type": "code",
   "execution_count": 14,
   "metadata": {},
   "outputs": [
    {
     "data": {
      "text/plain": [
       "2613"
      ]
     },
     "execution_count": 14,
     "metadata": {},
     "output_type": "execute_result"
    }
   ],
   "source": [
    "def nombre_xmas(lien_fichier, mot=\"XMAS\"):\n",
    "    with open(lien_fichier, 'r') as file:\n",
    "        grille = [list(line.strip()) for line in file.readlines()]  \n",
    "\n",
    "    ligne, colonne = len(grille), len(grille[0])\n",
    "    word_length = len(mot)\n",
    "    nombre = 0\n",
    "    directions = [ (0, 1), (1, 0), (1, 1), (1, -1), (0, -1), (-1, 0), (-1, -1), (-1, 1) ]\n",
    "\n",
    "    def is_word_at(x, y, dx, dy):\n",
    "        for i in range(word_length):\n",
    "            nx, ny = x + i * dx, y + i * dy\n",
    "            if nx < 0 or ny < 0 or nx >= ligne or ny >= colonne or grille[nx][ny] != mot[i]:\n",
    "                return False\n",
    "        return True\n",
    "\n",
    "    for i in range(ligne):\n",
    "        for j in range(colonne):\n",
    "            for dx, dy in directions:\n",
    "                if is_word_at(i, j, dx, dy):\n",
    "                    nombre += 1\n",
    "    return nombre\n",
    "\n",
    "resulta = nombre_xmas(lien_fichier)\n",
    "resulta"
   ]
  },
  {
   "cell_type": "markdown",
   "metadata": {},
   "source": [
    "## Part 2"
   ]
  },
  {
   "cell_type": "code",
   "execution_count": 15,
   "metadata": {},
   "outputs": [
    {
     "data": {
      "text/plain": [
       "1905"
      ]
     },
     "execution_count": 15,
     "metadata": {},
     "output_type": "execute_result"
    }
   ],
   "source": [
    "def nombre_x_mas(lien_fichier):\n",
    "        with open(lien_fichier, 'r') as file:\n",
    "            grille = [list(line.strip()) for line in file.readlines()]  \n",
    "            \n",
    "        ligne, colonne = len(grille), len(grille[0])\n",
    "        nombre = 0\n",
    "        lettres = {\"M\", \"S\"}\n",
    "        \n",
    "        for i in range(1, ligne - 1):\n",
    "            for j in range(1, colonne - 1):\n",
    "                if grille[i][j] == \"A\":\n",
    "                    if {grille[i - 1][j - 1], grille[i + 1][j + 1]} == lettres and {grille[i - 1][j + 1], grille[i + 1][j - 1]} == lettres:\n",
    "                        nombre += 1\n",
    "\n",
    "        return nombre\n",
    "resulta = nombre_x_mas(lien_fichier)\n",
    "resulta"
   ]
  },
  {
   "cell_type": "markdown",
   "metadata": {},
   "source": [
    "# Day 5"
   ]
  },
  {
   "cell_type": "markdown",
   "metadata": {},
   "source": [
    "## Part1"
   ]
  },
  {
   "cell_type": "code",
   "execution_count": 16,
   "metadata": {},
   "outputs": [],
   "source": [
    "lien_fichier = 'C:\\\\Python\\\\Advent_of_code_2024\\\\Day_5_input_data.txt'"
   ]
  },
  {
   "cell_type": "code",
   "execution_count": 17,
   "metadata": {},
   "outputs": [
    {
     "data": {
      "text/plain": [
       "4766"
      ]
     },
     "execution_count": 17,
     "metadata": {},
     "output_type": "execute_result"
    }
   ],
   "source": [
    "from collections import defaultdict\n",
    "\n",
    "def lecture_fichier_txt(lien_fichier):\n",
    "    with open(lien_fichier, 'r') as fichier:\n",
    "        lignes = fichier.readlines()\n",
    "\n",
    "    regles = []\n",
    "    mises_a_jour = []\n",
    "    en_mode_mises_a_jour = False\n",
    "\n",
    "    for ligne in lignes:\n",
    "        ligne = ligne.strip()\n",
    "        if not ligne:\n",
    "            en_mode_mises_a_jour = True\n",
    "            continue\n",
    "        if en_mode_mises_a_jour:\n",
    "            mises_a_jour.append(list(map(int, ligne.split(','))))\n",
    "        else:\n",
    "            regles.append(list(map(int, ligne.split('|'))))\n",
    "    return regles, mises_a_jour\n",
    "\n",
    "def construire_graphe(liste_regles):\n",
    "    graphe = defaultdict(list)\n",
    "    for origine, destination in liste_regles:\n",
    "        graphe[origine].append(destination)\n",
    "    return graphe\n",
    "\n",
    "def mise_a_jour_valide(mise_a_jour, graphe):\n",
    "    index_page = {page: i for i, page in enumerate(mise_a_jour)}\n",
    "    for origine, destinations in graphe.items():\n",
    "        if origine in index_page:\n",
    "            for destination in destinations:\n",
    "                if destination in index_page and index_page[origine] > index_page[destination]:\n",
    "                    return False\n",
    "    return True\n",
    "\n",
    "def trouver_page_milieu(mise_a_jour):\n",
    "    index_milieu = len(mise_a_jour) // 2\n",
    "    return mise_a_jour[index_milieu]\n",
    "\n",
    "def traiter_mises_a_jour(liste_regles, liste_mises_a_jour):\n",
    "    graphe = construire_graphe(liste_regles)\n",
    "    mises_a_jour_valides = []\n",
    "    for mise_a_jour in liste_mises_a_jour:\n",
    "        if mise_a_jour_valide(mise_a_jour, graphe):\n",
    "            mises_a_jour_valides.append(mise_a_jour)\n",
    "    somme_milieux = sum(trouver_page_milieu(mise_a_jour) for mise_a_jour in mises_a_jour_valides)\n",
    "    return somme_milieux, mises_a_jour_valides\n",
    "\n",
    "liste_regles, liste_mises_a_jour = lecture_fichier_txt(lien_fichier)\n",
    "somme_milieux, mises_a_jour_valides = traiter_mises_a_jour(liste_regles, liste_mises_a_jour)\n",
    "\n",
    "somme_milieux"
   ]
  },
  {
   "cell_type": "markdown",
   "metadata": {},
   "source": [
    "## Part2"
   ]
  },
  {
   "cell_type": "code",
   "execution_count": null,
   "metadata": {},
   "outputs": [
    {
     "data": {
      "text/plain": [
       "6257"
      ]
     },
     "execution_count": 23,
     "metadata": {},
     "output_type": "execute_result"
    }
   ],
   "source": [
    "from collections import deque\n",
    "\n",
    "def tri_topologique(mise_a_jour, graphe):\n",
    "    degre_entree = defaultdict(int)\n",
    "    liste_adj = defaultdict(list)\n",
    "    ensemble_mise_a_jour = set(mise_a_jour)\n",
    "\n",
    "    for x in ensemble_mise_a_jour:\n",
    "        for y in graphe.get(x, []):\n",
    "            if y in ensemble_mise_a_jour:\n",
    "                liste_adj[x].append(y)\n",
    "                degre_entree[y] += 1\n",
    "\n",
    "    file = deque([x for x in ensemble_mise_a_jour if degre_entree[x] == 0])\n",
    "    mise_a_jour_triee = []\n",
    "\n",
    "    while file:\n",
    "        courant = file.popleft()\n",
    "        mise_a_jour_triee.append(courant)\n",
    "        for voisin in liste_adj[courant]:\n",
    "            degre_entree[voisin] -= 1\n",
    "            if degre_entree[voisin] == 0:\n",
    "                file.append(voisin)\n",
    "    return mise_a_jour_triee\n",
    "\n",
    "def corriger_mises_a_jour_incorrectes(liste_regles, liste_mises_a_jour):\n",
    "    graphe = construire_graphe(liste_regles)\n",
    "    mises_a_jour_incorrectes = [mise_a_jour for mise_a_jour in liste_mises_a_jour if not mise_a_jour_valide(mise_a_jour, graphe)]\n",
    "    mises_a_jour_corrigees = []\n",
    "    for mise_a_jour in mises_a_jour_incorrectes:\n",
    "        mise_a_jour_corrigee = tri_topologique(mise_a_jour, graphe)\n",
    "        mises_a_jour_corrigees.append(mise_a_jour_corrigee)\n",
    "    somme_milieux = sum(trouver_page_milieu(mise_a_jour) for mise_a_jour in mises_a_jour_corrigees)\n",
    "    return somme_milieux, mises_a_jour_corrigees\n",
    "\n",
    "somme_milieux_corrigee, mises_a_jour_corrigees = corriger_mises_a_jour_incorrectes(liste_regles, liste_mises_a_jour)\n",
    "somme_milieux_corrigee"
   ]
  }
 ],
 "metadata": {
  "kernelspec": {
   "display_name": "Python 3",
   "language": "python",
   "name": "python3"
  },
  "language_info": {
   "codemirror_mode": {
    "name": "ipython",
    "version": 3
   },
   "file_extension": ".py",
   "mimetype": "text/x-python",
   "name": "python",
   "nbconvert_exporter": "python",
   "pygments_lexer": "ipython3",
   "version": "3.13.0"
  }
 },
 "nbformat": 4,
 "nbformat_minor": 2
}
